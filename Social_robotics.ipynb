{
 "cells": [
  {
   "cell_type": "markdown",
   "id": "b103c5ea",
   "metadata": {
    "deletable": false,
    "editable": false,
    "nbassignment": {
     "type": "header"
    },
    "nbgrader": {
     "cell_type": "markdown",
     "checksum": "770cce8a57eb7f845ae1e122435ff684",
     "grade": false,
     "grade_id": "HeaderA",
     "locked": true,
     "schema_version": 3,
     "solution": false,
     "task": false
    }
   },
   "source": [
    "# Artificial Intelligence for Robotics 01\n",
    "\n",
    "## General Information:\n",
    "Please do not add or delete any cells. Answers belong into the corresponding cells (below the question). If a function is given (either as a signature or a full function), you should not change the name, arguments or return value of the function.\n",
    "\n",
    "If you encounter empty cells underneath the answer that can not be edited, please ignore them, they are for testing purposes.\n",
    "\n",
    "When editing an assignment there can be the case that there are variables in the kernel. To make sure your assignment works, please restart the kernel and run all cells before submitting (e.g. via Kernel -> Restart & Run All).\n",
    "\n",
    "Code cells where you are supposed to give your answer often include the line `raise NotImplementedError`. This makes it easier to automatically grade answers. If you edit the cell please outcomment or delete this line.\n",
    "\n",
    "## Submission:\n",
    "Please submit your notebook via the web interface (in the main view -> Assignments -> Submit). The assignments are **due on Monday at 20:00**.\n",
    "\n",
    "## Group Work:\n",
    "Please enter your UID (your username here) and those of your group partners into the next cell. We apply plagiarism checking, so do not submit others solutions! If an assignment has a copied solution, the task will be graded with 0 points for all people with the same solution.\n",
    "\n",
    "## Questions about the Assignment:\n",
    "If you have questions about the assignment please post them in the LEA forum before the deadline. Don't wait until the last day to post questions!"
   ]
  },
  {
   "cell_type": "markdown",
   "id": "269910cd",
   "metadata": {
    "deletable": false,
    "editable": false,
    "nbassignment": {
     "type": "header"
    },
    "nbgrader": {
     "cell_type": "markdown",
     "checksum": "93d376da99c86b4fabd2542101dc5ec7",
     "grade": false,
     "grade_id": "cell-4a94f4450f12f33c",
     "locked": true,
     "schema_version": 3,
     "solution": false,
     "task": false
    }
   },
   "source": [
    "### Please add the usernames of all your team members in the manner member1, member2 in next cell (example given below)\n",
    "\n",
    "member1 = 'example'\n",
    "\n",
    "member2 = 'example2'\n",
    "\n",
    "#### If you are not working in a group, then please add member2 as none2s"
   ]
  },
  {
   "cell_type": "code",
   "execution_count": 5,
   "id": "72243e7a",
   "metadata": {
    "ExecuteTime": {
     "end_time": "2025-04-26T17:31:56.779076Z",
     "start_time": "2025-04-26T17:31:56.776169Z"
    },
    "deletable": false,
    "nbassignment": {
     "type": "group_info"
    },
    "nbgrader": {
     "cell_type": "code",
     "checksum": "2ef735ca9199180a82193d39df17789b",
     "grade": false,
     "grade_id": "cell-a9c2f4587c671f98",
     "locked": false,
     "schema_version": 3,
     "solution": true,
     "task": false
    }
   },
   "outputs": [],
   "source": [
    "# YOUR CODE HERE\n",
    "member1 = 'nravi2s'\n",
    "member2 = 'hmohan2s'\n",
    "member2 = 'jthyri2s'"
   ]
  },
  {
   "cell_type": "code",
   "execution_count": 6,
   "id": "58d35b9d",
   "metadata": {
    "ExecuteTime": {
     "end_time": "2025-04-26T17:31:57.856390Z",
     "start_time": "2025-04-26T17:31:57.844130Z"
    },
    "deletable": false,
    "editable": false,
    "nbassignment": {
     "type": "header"
    },
    "nbgrader": {
     "cell_type": "code",
     "checksum": "90856a52a0162f78566c398792f29a27",
     "grade": true,
     "grade_id": "cell-e27ced94e387fe18",
     "locked": true,
     "points": 0,
     "schema_version": 3,
     "solution": false,
     "task": false
    }
   },
   "outputs": [
    {
     "name": "stdout",
     "output_type": "stream",
     "text": [
      "All tests passed!\n"
     ]
    }
   ],
   "source": [
    "# Execute this cell to make sure you correctly filled in the usernames of the team members\n",
    "\n",
    "def group_name_test():\n",
    "    for member_id in [member1, member2]:\n",
    "        assert isinstance(member_id, str), \"Please give your member id as a string.\"\n",
    "        assert len(member_id) > 0, \"You need to fill in the member id for both members\"\n",
    "        assert member_id.endswith(\"2s\"), \"The member id should end with 2s (Your JupyterHub username)\"\n",
    "\n",
    "group_name_test() \n",
    "print(\"All tests passed!\")"
   ]
  },
  {
   "cell_type": "markdown",
   "id": "26c9394f",
   "metadata": {
    "deletable": false,
    "editable": false,
    "nbgrader": {
     "cell_type": "markdown",
     "checksum": "4150e60e9202b72dfda6f66119e212fd",
     "grade": false,
     "grade_id": "taskheader_1",
     "locked": true,
     "schema_version": 3,
     "solution": false,
     "task": false
    }
   },
   "source": [
    "# Task 1\n",
    "\n",
    "**[130 Point(s)]**"
   ]
  },
  {
   "cell_type": "markdown",
   "id": "78138a14",
   "metadata": {
    "deletable": false,
    "editable": false,
    "nbgrader": {
     "cell_type": "markdown",
     "checksum": "9e262f7dc35a13fc3caa9d8581f243f4",
     "grade": false,
     "grade_id": "social_robotics_Asocial_robotics_Bsocial_robotics_Csocial_robotics_Dsocial_robotics_Esocial_robotics_F_Header",
     "locked": true,
     "schema_version": 3,
     "solution": false,
     "task": false
    }
   },
   "source": [
    "# Social Robot Navigation and Seating Arrangement\n",
    "\n",
    "## Background\n",
    "You are working with a social robot in a home environment that needs to help coordinate a dinner gathering. The robot must help guide guests to their seats at the dining table while respecting social constraints and optimizing its path. The home layout is provided with furniture, walls, and initial positions of people marked.\n",
    "\n",
    "## Scenario\n",
    "A dinner party is being hosted where 8 guests (P1-P8) are dispersed throughout the house. The robot needs to:\n",
    "1. Determine a valid seating arrangement at the dining table based on social constraints\n",
    "2. Plan paths to guide each guest to their assigned seat\n",
    "\n",
    "### Note\n",
    "__You are not limited to using the provided libraries or function skeletons. Feel free to use any other tools or methods that you believe are better suited for implementing this solution. The only requirement is to use the randomly generated house layout provided with the assignment. Your solution must be built using this specific house layout.__\n"
   ]
  },
  {
   "cell_type": "markdown",
   "id": "c7a54c13",
   "metadata": {
    "deletable": false,
    "editable": false,
    "nbgrader": {
     "cell_type": "markdown",
     "checksum": "7e5f80324c45d1fb05c40d9c883f9188",
     "grade": false,
     "grade_id": "taskheader_1_1",
     "locked": true,
     "schema_version": 3,
     "solution": false,
     "task": false
    }
   },
   "source": [
    "## Task 1.1\n",
    "\n",
    "**[10 Point(s)]**"
   ]
  },
  {
   "cell_type": "markdown",
   "id": "b06c9ca9",
   "metadata": {
    "deletable": false,
    "editable": false,
    "nbgrader": {
     "cell_type": "markdown",
     "checksum": "8faf842e446bef2ecc2b5768bbc5d372",
     "grade": false,
     "grade_id": "social_robotics_A_Description0",
     "locked": true,
     "schema_version": 3,
     "solution": false,
     "task": false
    }
   },
   "source": [
    "### Task1: Read the Home layout (10 points)\n",
    "\n",
    "The task is to develop a pathfinding solution for a robot operating on a grid. The robot of the **dimension(2x2)** must guide several people of the **dimension(1x1)** to their destinations, minimizing the overall cost. The grid's configuration - **obstacles, location of people, furniture placement** is dynamic and changes per execution but the **number of rooms** remain same. The annotations for identifying obstacles and people remains the same throughtout all runs. This grid layout will be available in a file produced by the given function. \n",
    "\n",
    "**You need to implement a function capable of reading and parsing this file.**\n",
    "\n",
    "For the purpose of visualisation the home layout is also visible as a plot below.\n",
    "\n",
    "\n",
    "#### Grid Symbol Legend\n",
    "    - `.` : Empty space/Corridor\n",
    "    - `W` : Wall\n",
    "    - `L` : Living Room  \n",
    "    - `D` : Dining Room\n",
    "    - `K` : Kitchen\n",
    "    - `B` : Bedroom\n",
    "    - `C` : Balcony\n",
    "    - `d` : Door\n",
    "    - `r` : Robot\n",
    "    - `T` : Dining Table\n",
    "    - `H` : Dining Chair\n",
    "    - `S` : Sofa\n",
    "    - `c` : Coffee Table\n",
    "    - `b` : Bed\n",
    "    - `A` : Wardrobe\n",
    "    - `k` : Kitchen Counter\n",
    "    - `F` : Fridge\n",
    "    - `G` : Garden Chair\n",
    "    - `1-N`: Person (where N is the number of people)"
   ]
  },
  {
   "cell_type": "code",
   "execution_count": 19,
   "id": "3241f2f5",
   "metadata": {
    "ExecuteTime": {
     "end_time": "2025-05-02T15:36:07.710399Z",
     "start_time": "2025-05-02T15:36:06.517606Z"
    },
    "deletable": false,
    "editable": false,
    "nbgrader": {
     "cell_type": "code",
     "checksum": "e5ac129dc938bacb9462f7e6d050d9e1",
     "grade": false,
     "grade_id": "social_robotics_A_Description1",
     "locked": true,
     "schema_version": 3,
     "solution": false,
     "task": false
    }
   },
   "outputs": [
    {
     "data": {
      "image/png": "[encoded data removed]",
      "text/plain": [
       "<Figure size 1500x1500 with 1 Axes>"
      ]
     },
     "metadata": {},
     "output_type": "display_data"
    }
   ],
   "source": [
    "from utils.home_layout import generate_house_layout\n",
    "\n",
    "grid, rooms = generate_house_layout(file_name = 'home.txt')"
   ]
  },
  {
   "cell_type": "code",
   "execution_count": 23,
   "id": "8c087363",
   "metadata": {
    "ExecuteTime": {
     "end_time": "2025-05-02T15:36:47.081412Z",
     "start_time": "2025-05-02T15:36:47.063981Z"
    },
    "deletable": false,
    "nbgrader": {
     "cell_type": "code",
     "checksum": "59039f7951dcd43ad5fe29d36e7c567c",
     "grade": true,
     "grade_id": "social_robotics_A",
     "locked": false,
     "points": 10,
     "schema_version": 3,
     "solution": true,
     "task": false
    }
   },
   "outputs": [
    {
     "name": "stdout",
     "output_type": "stream",
     "text": [
      "{'L': (slice(10, 55, None), slice(10, 46, None)), 'D': (slice(10, 55, None), slice(46, 67, None)), 'K': (slice(55, 90, None), slice(46, 67, None)), 'B': (slice(55, 90, None), slice(10, 46, None)), 'C': (slice(10, 55, None), slice(67, 90, None))}\n"
     ]
    }
   ],
   "source": [
    "# YOUR CODE HERE\n",
    "import numpy as np\n",
    "file_path = ...\n",
    "def read_layout(file_path='home.txt'):\n",
    "    file_path = file_path\n",
    "    home = []\n",
    "    with open(file_path, 'r') as file:\n",
    "\n",
    "        for line in file:\n",
    "            row = line.strip().split(' ')\n",
    "            home.append(row)\n",
    "    home = np.array(home)\n",
    "    return home\n",
    "\n",
    "\n",
    "\n",
    "# usage\n",
    "\n",
    "file_path = \"home.txt\"\n",
    "grid = read_layout(file_path)\n",
    "print(rooms)"
   ]
  },
  {
   "cell_type": "markdown",
   "id": "48cfd278",
   "metadata": {
    "deletable": false,
    "editable": false,
    "nbgrader": {
     "cell_type": "markdown",
     "checksum": "da5941168a4eb982707f0b2f13d8ed7a",
     "grade": false,
     "grade_id": "taskheader_1_2",
     "locked": true,
     "schema_version": 3,
     "solution": false,
     "task": false
    }
   },
   "source": [
    "## Task 1.2\n",
    "\n",
    "**[20 Point(s)]**"
   ]
  },
  {
   "cell_type": "markdown",
   "id": "48838d43",
   "metadata": {
    "deletable": false,
    "editable": false,
    "nbgrader": {
     "cell_type": "markdown",
     "checksum": "61458a93fc8ef1f0248343fe9d3dbe52",
     "grade": false,
     "grade_id": "social_robotics_B_Description0",
     "locked": true,
     "schema_version": 3,
     "solution": false,
     "task": false
    }
   },
   "source": [
    "## Task 2: Topological Mapping (20 points)\n",
    "\n",
    "The robot needs to navigate through a large house environment to guide people to their seats. Planning paths directly on this grid is inefficient. Your task is to create a topological graph that represents the house layout at a higher level of abstraction, enabling hierarchical path planning.\n",
    "\n",
    "#### Why does it matter? \n",
    "A topological map reduces the problem by first planning through rooms, then detailed paths.This hierarchical approach significantly reduces the search space and planning time.\n",
    "\n",
    "\n",
    "\n",
    "To do so, you can utilise [networkx](https://networkx.org/) for creating graphs.\n",
    "Below is an example showing how to create and visualize a graph with networkx. Feel free to implement your own approach - this is just an illustration and not meant to dictate your solution.\n"
   ]
  },
  {
   "cell_type": "code",
   "execution_count": 15,
   "id": "a3afc2e8",
   "metadata": {
    "ExecuteTime": {
     "end_time": "2025-05-02T15:31:38.403411Z",
     "start_time": "2025-05-02T15:31:38.249553Z"
    },
    "deletable": false,
    "editable": false,
    "nbgrader": {
     "cell_type": "code",
     "checksum": "728896ce6560cb9020f223e6b2b1fd4b",
     "grade": false,
     "grade_id": "social_robotics_B_Description1",
     "locked": true,
     "points": 20,
     "schema_version": 3,
     "solution": false,
     "task": false
    }
   },
   "outputs": [
    {
     "data": {
      "image/png": "[encoded data removed]",
      "text/plain": [
       "<Figure size 800x600 with 1 Axes>"
      ]
     },
     "metadata": {},
     "output_type": "display_data"
    }
   ],
   "source": [
    "import networkx as nx\n",
    "import numpy as np\n",
    "import matplotlib.pyplot as plt\n",
    "\n",
    "\n",
    "# Create a new graph\n",
    "G = nx.Graph()\n",
    "\n",
    "# Add nodes (rooms)\n",
    "G.add_node(\"Living Room\")\n",
    "G.add_node(\"Kitchen\") \n",
    "G.add_node(\"Bedroom\")\n",
    "G.add_node(\"Dining Room\")\n",
    "\n",
    "# Add edges (doors/connections between rooms)\n",
    "G.add_edge(\"Living Room\", \"Kitchen\")\n",
    "G.add_edge(\"Living Room\", \"Dining Room\")\n",
    "G.add_edge(\"Kitchen\", \"Dining Room\") \n",
    "G.add_edge(\"Living Room\", \"Bedroom\")\n",
    "\n",
    "# Draw the graph\n",
    "plt.figure(figsize=(8,6))\n",
    "pos = nx.spring_layout(G)\n",
    "nx.draw(G, pos, with_labels=True, node_color='lightblue', \n",
    "        node_size=1500, font_size=10, font_weight='bold')\n",
    "plt.title(\"House Topology Graph\")\n",
    "plt.show()\n"
   ]
  },
  {
   "cell_type": "code",
   "execution_count": 16,
   "id": "37974e1e",
   "metadata": {
    "ExecuteTime": {
     "end_time": "2025-05-02T15:31:39.415056Z",
     "start_time": "2025-05-02T15:31:39.381018Z"
    },
    "deletable": false,
    "nbgrader": {
     "cell_type": "code",
     "checksum": "736220f6ee9e641ae73aff32dea8645f",
     "grade": true,
     "grade_id": "social_robotics_B",
     "locked": false,
     "points": 20,
     "schema_version": 3,
     "solution": true,
     "task": false
    }
   },
   "outputs": [
    {
     "name": "stdout",
     "output_type": "stream",
     "text": [
      "No rooms found to display.\n"
     ]
    }
   ],
   "source": [
    "import networkx as nx\n",
    "import matplotlib.pyplot as plt\n",
    "\n",
    "ROOM_SYMBOLS = {\n",
    "    'Living Room': {'L', 'S', 'c'},\n",
    "    'Dining Room': {'D', 'T', 'H'},\n",
    "    'Kitchen': {'K', 'k', 'F'},\n",
    "    'Bedroom': {'B', 'b', 'A'},\n",
    "    'Balcony': {'C', 'G'},\n",
    "}\n",
    "\n",
    "symbol_to_room = {}\n",
    "for room, symbols in ROOM_SYMBOLS.items():\n",
    "    for s in symbols:\n",
    "        symbol_to_room[s] = room\n",
    "\n",
    "def build_topological_graph(grid):\n",
    "    G = nx.Graph()\n",
    "    rows, cols = len(grid), len(grid[0])\n",
    "\n",
    "    for y in range(rows):\n",
    "        for x in range(cols):\n",
    "            sym = grid[y][x]\n",
    "            if sym not in symbol_to_room:\n",
    "                continue\n",
    "\n",
    "            current_room = symbol_to_room[sym]\n",
    "\n",
    "            for dy, dx in [(-1,0), (1,0), (0,-1), (0,1)]:\n",
    "                ny, nx_ = y + dy, x + dx\n",
    "                if 0 <= ny < rows and 0 <= nx_ < cols:\n",
    "                    neighbor_sym = grid[ny][nx_]\n",
    "                    if neighbor_sym not in symbol_to_room:\n",
    "                        continue\n",
    "\n",
    "                    neighbor_room = symbol_to_room[neighbor_sym]\n",
    "                    if neighbor_room != current_room:\n",
    "                        G.add_edge(current_room, neighbor_room)\n",
    "\n",
    "    return G\n",
    "\n",
    "\n",
    "def plot_topological_graph(G):\n",
    "    if G.number_of_nodes() == 0:\n",
    "        print(\"No rooms found to display.\")\n",
    "        return\n",
    "\n",
    "    plt.figure(figsize=(10, 7))\n",
    "    pos = nx.spring_layout(G, seed=42)\n",
    "    nx.draw(G, pos, with_labels=True, node_color='lightcoral',\n",
    "            node_size=2000, font_size=10, font_weight='bold')\n",
    "    plt.title(\"Room-Only Topological Graph\")\n",
    "    plt.show()\n",
    "\n",
    "\n",
    "    \n",
    "    \n",
    "grid = read_layout(file_path)  # from Task 1\n",
    "topo_graph = build_topological_graph(grid)\n",
    "plot_topological_graph(topo_graph)\n"
   ]
  },
  {
   "cell_type": "markdown",
   "id": "c7c48011",
   "metadata": {
    "deletable": false,
    "editable": false,
    "nbgrader": {
     "cell_type": "markdown",
     "checksum": "74df96edec0b9432d8460face7b0fd68",
     "grade": false,
     "grade_id": "taskheader_1_3",
     "locked": true,
     "schema_version": 3,
     "solution": false,
     "task": false
    }
   },
   "source": [
    "## Task 1.3\n",
    "\n",
    "**[30 Point(s)]**"
   ]
  },
  {
   "cell_type": "markdown",
   "id": "eb5435b0",
   "metadata": {
    "deletable": false,
    "editable": false,
    "nbgrader": {
     "cell_type": "markdown",
     "checksum": "a05f843d81bf041523be37156028ded2",
     "grade": false,
     "grade_id": "social_robotics_C_Description0",
     "locked": true,
     "schema_version": 3,
     "solution": false,
     "task": false
    }
   },
   "source": [
    "## Task 3: Path Planning (30 points)\n",
    "\n",
    "The robot needs to guide multiple people to their assigned seats at the dining table. For each person, the robot must:\n",
    "\n",
    "1. Plan a path from the robot's current position to the person\n",
    "2. Plan a path from the person to their assigned seat\n",
    "3. Implement A* search algorithm for path planning\n",
    "4. Handle obstacles (furniture, walls) and other people as blocked cells\n",
    "\n",
    "To do so, you need to **implement A\\* search with appropriate heuristic function**, make sure to account for walls, furniture and other people as obstacles.\n",
    "\n",
    "**Calculate and print total path cost for the complete guidance task**."
   ]
  },
  {
   "cell_type": "code",
   "execution_count": null,
   "id": "06369693",
   "metadata": {
    "deletable": false,
    "nbgrader": {
     "cell_type": "code",
     "checksum": "bf87a2a0244f292fcf47235c7984d46a",
     "grade": true,
     "grade_id": "social_robotics_C",
     "locked": false,
     "points": 30,
     "schema_version": 3,
     "solution": true,
     "task": false
    }
   },
   "outputs": [],
   "source": [
    "# YOUR CODE HERE\n",
    "raise NotImplementedError()"
   ]
  },
  {
   "cell_type": "markdown",
   "id": "94f9237f",
   "metadata": {
    "deletable": false,
    "editable": false,
    "nbgrader": {
     "cell_type": "markdown",
     "checksum": "21de2960215a48e24117795161d5a9fd",
     "grade": false,
     "grade_id": "taskheader_1_4",
     "locked": true,
     "schema_version": 3,
     "solution": false,
     "task": false
    }
   },
   "source": [
    "## Task 1.4\n",
    "\n",
    "**[40 Point(s)]**"
   ]
  },
  {
   "cell_type": "markdown",
   "id": "beb50ad9",
   "metadata": {
    "deletable": false,
    "editable": false,
    "nbgrader": {
     "cell_type": "markdown",
     "checksum": "784ecd6fd47b903bcafa0a5cae3f5c79",
     "grade": false,
     "grade_id": "social_robotics_D_Description0",
     "locked": true,
     "schema_version": 3,
     "solution": false,
     "task": false
    }
   },
   "source": [
    "## Task 4: Seating Arrangement Constraint Satisfaction (30 points)\n",
    "\n",
    "The robot needs to determine valid seating arrangements for 8 people around the dining table while respecting social constraints. Each arrangement must satisfy basic constraints (one person per seat) and specific social preferences of individuals.\n",
    "\n",
    "\n",
    "\n",
    "### Social Constraints:\n",
    "1. Language Groups:\n",
    "   - P1, P2, P3 speak English only\n",
    "   - P4, P5 speak Spanish only\n",
    "   - P6, P7, P8 are bilingual\n",
    "   - At least one bilingual person must sit between language groups\n",
    "   \n",
    "2. Conversation Preferences:\n",
    "   - P1 wants to discuss business with P6 and needs to sit together\n",
    "   - P3 and P5 are in a heated argument so must be far apart at the table\n",
    "   - P2 and P8 are close friends so want to sit together\n",
    "   - P4 and P7 are sharing a presentation so need to sit adjacent\n",
    "\n",
    "\n",
    "**Implement a constraint satisfaction solver to find valid seating arrangements, please use backtracking search to find all possible valid arrangements.**"
   ]
  },
  {
   "cell_type": "code",
   "execution_count": null,
   "id": "f64d8b60",
   "metadata": {
    "ExecuteTime": {
     "end_time": "2025-04-23T14:44:33.162260Z",
     "start_time": "2025-04-23T14:44:33.158619Z"
    },
    "deletable": false,
    "nbgrader": {
     "cell_type": "code",
     "checksum": "923648f9f2ce27913c74409ae6f32100",
     "grade": true,
     "grade_id": "social_robotics_D",
     "locked": false,
     "points": 40,
     "schema_version": 3,
     "solution": true,
     "task": false
    }
   },
   "outputs": [],
   "source": [
    "# YOUR CODE HERE\n",
    "raise NotImplementedError()"
   ]
  },
  {
   "cell_type": "markdown",
   "id": "2aef822d",
   "metadata": {
    "deletable": false,
    "editable": false,
    "nbgrader": {
     "cell_type": "markdown",
     "checksum": "c6947b247e7502f87a3b94b552831cb7",
     "grade": false,
     "grade_id": "taskheader_1_5",
     "locked": true,
     "schema_version": 3,
     "solution": false,
     "task": false
    }
   },
   "source": [
    "## Task 1.5\n",
    "\n",
    "**[20 Point(s)]**"
   ]
  },
  {
   "cell_type": "markdown",
   "id": "a63922c9",
   "metadata": {
    "deletable": false,
    "editable": false,
    "nbgrader": {
     "cell_type": "markdown",
     "checksum": "4c55b43d195c012d409a1a3e7658cfbc",
     "grade": false,
     "grade_id": "social_robotics_E_Description0",
     "locked": true,
     "schema_version": 3,
     "solution": false,
     "task": false
    }
   },
   "source": [
    "## Task 5: Integration (10 points)\n",
    "\n",
    "The final task is to integrate all the previous components into a complete solution that demonstrates the robot's ability to efficiently guide guests to their seats while respecting both physical constraints of the environment and social seating preferences.\n",
    "\n",
    "**Implement the following:**\n",
    "- Apply the seating arrangement solution from the constraint satisfaction solver to find the valid seating arrangement\n",
    "- Then use the topological map to find the local map for each guest\n",
    "- Then use the A* search algorithm on the local map to find the path from the robot to each guest and from each guest to their assigned seat\n",
    "- Show the total cost of the path taken by the robot and display the seating arrangment."
   ]
  },
  {
   "cell_type": "code",
   "execution_count": null,
   "id": "5965b786",
   "metadata": {
    "deletable": false,
    "nbgrader": {
     "cell_type": "code",
     "checksum": "ca7df31f0d3be92920b92d688d03d8d0",
     "grade": true,
     "grade_id": "social_robotics_E",
     "locked": false,
     "points": 20,
     "schema_version": 3,
     "solution": true,
     "task": false
    }
   },
   "outputs": [],
   "source": [
    "# YOUR CODE HERE\n",
    "raise NotImplementedError()"
   ]
  },
  {
   "cell_type": "markdown",
   "id": "2929bea0",
   "metadata": {
    "deletable": false,
    "editable": false,
    "nbgrader": {
     "cell_type": "markdown",
     "checksum": "27807a790959636238d841d16ac32a55",
     "grade": false,
     "grade_id": "taskheader_1_6",
     "locked": true,
     "schema_version": 3,
     "solution": false,
     "task": false
    }
   },
   "source": [
    "## Task 1.6\n",
    "\n",
    "**[10 Point(s)]**"
   ]
  },
  {
   "cell_type": "markdown",
   "id": "44fbc0e2",
   "metadata": {
    "deletable": false,
    "editable": false,
    "nbgrader": {
     "cell_type": "markdown",
     "checksum": "263f1029f9f1b1197ca2109b7c1a8978",
     "grade": false,
     "grade_id": "social_robotics_F_Description0",
     "locked": true,
     "schema_version": 3,
     "solution": false,
     "task": false
    }
   },
   "source": [
    "## Task 6: Visualisation: Optional (10 points)\n",
    "\n",
    "Let's visualise the path for each person using the provided animation code. Ensure that the path format matches the requirements of the function. You can either use the given animation code or create your own visualization to demonstrate the robot's path."
   ]
  },
  {
   "cell_type": "code",
   "execution_count": null,
   "id": "1129c5f3",
   "metadata": {
    "ExecuteTime": {
     "end_time": "2025-04-24T14:25:51.256625Z",
     "start_time": "2025-04-24T14:25:50.238541Z"
    },
    "deletable": false,
    "nbgrader": {
     "cell_type": "code",
     "checksum": "ada0a8b3d211b77c865833fc7c303f17",
     "grade": true,
     "grade_id": "social_robotics_F",
     "locked": false,
     "points": 10,
     "schema_version": 3,
     "solution": true,
     "task": false
    }
   },
   "outputs": [],
   "source": [
    "from utils.robot_path_vis import animate_robot_movement\n",
    "from IPython.display import HTML\n",
    "\n",
    "def demonstrate_robot_guidance(grid, rooms,path):\n",
    "    \"\"\"\n",
    "    Demonstrates robot guidance by creating an animation of the robot's path.\n",
    "\n",
    "    Args:\n",
    "        grid: 2D array representing the house layout.\n",
    "        rooms: Dictionary containing room areas.\n",
    "        path: List of (x, y) tuples\n",
    "\n",
    "    The path should be a list of (x, y) tuples representing the coordinates\n",
    "    the robot will follow. The path should start at the robot's initial position,\n",
    "    include the position of the person to guide, and end at the destination.\n",
    "\n",
    "    \"\"\"\n",
    "    \n",
    "    # Placeholder for A* algorithm call to generate path\n",
    "    \n",
    "    # YOUR CODE HERE\n",
    "    raise NotImplementedError()\n",
    "    \n",
    "    # Create animation\n",
    "    anim = animate_robot_movement(grid, rooms, path, person_following=True)\n",
    "    return anim\n",
    "\n",
    "# Run demonstration\n",
    "\n",
    "anim = demonstrate_robot_guidance(grid, rooms)\n",
    "HTML(anim.to_jshtml())\n",
    "\n"
   ]
  }
 ],
 "metadata": {
  "kernelspec": {
   "display_name": "Python 3 (ipykernel)",
   "language": "python",
   "name": "python3"
  },
  "language_info": {
   "codemirror_mode": {
    "name": "ipython",
    "version": 3
   },
   "file_extension": ".py",
   "mimetype": "text/x-python",
   "name": "python",
   "nbconvert_exporter": "python",
   "pygments_lexer": "ipython3",
   "version": "3.11.4"
  }
 },
 "nbformat": 4,
 "nbformat_minor": 5
}
